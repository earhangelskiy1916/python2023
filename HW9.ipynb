{
  "cells": [
    {
      "cell_type": "code",
      "source": [
        "import pandas as pd\n",
        "df = pd.read_csv('sample_data/california_housing_test.csv')\n"
      ],
      "metadata": {
        "id": "Zs0SptsaeDh2"
      },
      "execution_count": 1,
      "outputs": []
    },
    {
      "cell_type": "markdown",
      "source": [
        "Задача 40: Работать с файлом california_housing_train.csv, который находится в папке sample_data. Определить среднюю стоимость дома, где кол-во людей от 0 до 500 (population)."
      ],
      "metadata": {
        "id": "CSPF0PI6udVF"
      }
    },
    {
      "cell_type": "code",
      "source": [
        "data_df = df[df['population']<500] ['median_house_value']"
      ],
      "metadata": {
        "id": "i6Sze5idovwX"
      },
      "execution_count": 22,
      "outputs": []
    },
    {
      "cell_type": "code",
      "source": [
        "data_df"
      ],
      "metadata": {
        "colab": {
          "base_uri": "https://localhost:8080/"
        },
        "id": "1L18X5vtqQic",
        "outputId": "837c2e30-d56d-4113-eddf-056d2b9ba4cf"
      },
      "execution_count": 23,
      "outputs": [
        {
          "output_type": "execute_result",
          "data": {
            "text/plain": [
              "3       330000.0\n",
              "15      153100.0\n",
              "16      181300.0\n",
              "34      183800.0\n",
              "51       47500.0\n",
              "          ...   \n",
              "2929    179200.0\n",
              "2947    140600.0\n",
              "2960    500001.0\n",
              "2992    500001.0\n",
              "2998    162500.0\n",
              "Name: median_house_value, Length: 303, dtype: float64"
            ]
          },
          "metadata": {},
          "execution_count": 23
        }
      ]
    },
    {
      "cell_type": "code",
      "source": [
        "data_df.mean()"
      ],
      "metadata": {
        "colab": {
          "base_uri": "https://localhost:8080/"
        },
        "id": "CGhii0jFsD4t",
        "outputId": "8806d3d7-f4b6-4d28-ace4-88946c1cb046"
      },
      "execution_count": 24,
      "outputs": [
        {
          "output_type": "execute_result",
          "data": {
            "text/plain": [
              "189222.81188118813"
            ]
          },
          "metadata": {},
          "execution_count": 24
        }
      ]
    },
    {
      "cell_type": "markdown",
      "source": [
        "Задача 42: Узнать какая максимальная households в зоне минимального значения population."
      ],
      "metadata": {
        "id": "LpUr2wjlqwjE"
      }
    },
    {
      "cell_type": "code",
      "source": [
        "df[df['population'] == df['population'].min()]['households'].max()"
      ],
      "metadata": {
        "colab": {
          "base_uri": "https://localhost:8080/"
        },
        "id": "YR3c8gmhq4k1",
        "outputId": "8398a9df-2b0f-45ec-985a-e541013a9852"
      },
      "execution_count": 35,
      "outputs": [
        {
          "output_type": "execute_result",
          "data": {
            "text/plain": [
              "3.0"
            ]
          },
          "metadata": {},
          "execution_count": 35
        }
      ]
    }
  ],
  "metadata": {
    "colab": {
      "provenance": []
    },
    "kernelspec": {
      "display_name": "Python 3",
      "name": "python3"
    }
  },
  "nbformat": 4,
  "nbformat_minor": 0
}